{
 "cells": [
  {
   "cell_type": "markdown",
   "id": "0068a002",
   "metadata": {},
   "source": [
    "### Importing required libraries."
   ]
  },
  {
   "cell_type": "code",
   "execution_count": 2,
   "id": "35826417",
   "metadata": {},
   "outputs": [],
   "source": [
    "import csv\n",
    "import pandas as pd\n",
    "import seaborn as sns\n",
    "import matplotlib.pyplot as plt\n",
    "import sqlite3"
   ]
  },
  {
   "cell_type": "markdown",
   "id": "42132cb3",
   "metadata": {},
   "source": [
    "### Establishing connection to the accident database."
   ]
  },
  {
   "cell_type": "code",
   "execution_count": 3,
   "id": "1b7ae3c6",
   "metadata": {},
   "outputs": [],
   "source": [
    "con = sqlite3.connect(\"accident_data_v1.0.0_2023.db\")"
   ]
  },
  {
   "cell_type": "code",
   "execution_count": 4,
   "id": "85c38330",
   "metadata": {},
   "outputs": [],
   "source": [
    "# Creating a variable that would allow the successful executions of SQL queries.\n",
    "cur = con.cursor()"
   ]
  },
  {
   "cell_type": "markdown",
   "id": "cfc759f1",
   "metadata": {},
   "source": [
    "### Retrieving information about the database tables."
   ]
  },
  {
   "cell_type": "code",
   "execution_count": 4,
   "id": "cf226dec",
   "metadata": {},
   "outputs": [
    {
     "name": "stdout",
     "output_type": "stream",
     "text": [
      "The name of the tables in accident database are:\n",
      "accident\n",
      "casualty\n",
      "vehicle\n",
      "lsoa\n"
     ]
    }
   ],
   "source": [
    "cur.execute(\"\"\"\n",
    "SELECT name\n",
    "FRom sqlite_master\n",
    "WHERE type = \"table\"\n",
    "\"\"\")\n",
    "table_names = cur.fetchall()\n",
    "print(f\"The name of the tables in accident database are:\")\n",
    "for i in table_names:\n",
    "    print(i[0])"
   ]
  },
  {
   "cell_type": "markdown",
   "id": "edf923c3",
   "metadata": {},
   "source": [
    "## Answers to Question 3"
   ]
  },
  {
   "cell_type": "markdown",
   "id": "6022a941",
   "metadata": {},
   "source": [
    "### 3a) The age of the oldest driver/rider in the casualty table"
   ]
  },
  {
   "cell_type": "code",
   "execution_count": 5,
   "id": "99e9f715",
   "metadata": {},
   "outputs": [
    {
     "name": "stdout",
     "output_type": "stream",
     "text": [
      "The age of the oldest driver/rider in the casualty table is 101.\n"
     ]
    }
   ],
   "source": [
    "cur.execute(\"\"\"\n",
    "SELECT MAX (age_of_casualty)\n",
    "FROM casualty\n",
    "WHERE casualty_class = 1\n",
    "\"\"\")\n",
    "oldest = cur.fetchone()\n",
    "print(f\"The age of the oldest driver/rider in the casualty table is {oldest[0]}.\")"
   ]
  },
  {
   "cell_type": "markdown",
   "id": "38fb37fb",
   "metadata": {},
   "source": [
    "### 3b) The total number of vehicle_type = 19 vehicles in the vehicle table"
   ]
  },
  {
   "cell_type": "code",
   "execution_count": 6,
   "id": "decdccdc",
   "metadata": {
    "scrolled": true
   },
   "outputs": [
    {
     "name": "stdout",
     "output_type": "stream",
     "text": [
      "The total number of vehicle_type = 19 vehicles in the vehicle table is 47458.\n"
     ]
    }
   ],
   "source": [
    "cur.execute(\"\"\"\n",
    "SELECT COUNT (vehicle_type)\n",
    "FROM vehicle\n",
    "WHERE vehicle_type = 19\n",
    "\"\"\")\n",
    "vehicle_19 = cur.fetchone()\n",
    "print(f\"The total number of vehicle_type = 19 vehicles in the vehicle table is {vehicle_19[0]}.\")"
   ]
  },
  {
   "cell_type": "markdown",
   "id": "f583d1fe",
   "metadata": {},
   "source": [
    "### 3c) The sex of driver, sex of casualty, speed limit and age of vehicle for accidents in all the lower layer super output area (LSOA) regions of Kingston Upon Hull."
   ]
  },
  {
   "cell_type": "code",
   "execution_count": 7,
   "id": "a9fecd1d",
   "metadata": {},
   "outputs": [],
   "source": [
    "cur.execute(\"\"\"\n",
    "SELECT v.sex_of_driver, c.sex_of_casualty, a.speed_limit, v.age_of_vehicle\n",
    "FROM accident as a\n",
    "INNER JOIN vehicle as v ON a.accident_index = v.accident_index\n",
    "INNER JOIN casualty as c ON a.accident_index = c.accident_index\n",
    "INNER JOIN lsoa as l ON a.lsoa_of_accident_location = l.lsoa01cd\n",
    "WHERE lsoa01nm LIKE \"%Kingston upon Hull%\"\n",
    "\n",
    "\"\"\")\n",
    "\n",
    "res = cur.fetchall()"
   ]
  },
  {
   "cell_type": "code",
   "execution_count": 8,
   "id": "6cf57096",
   "metadata": {},
   "outputs": [],
   "source": [
    "# Creating a list that contains the name of the dataseries (columns) and assigning a variable to the list.\n",
    "col = [\"sex_of_driver\", \"sex_of_casualty\", \"speed_limit\", \"age_of_vehicle\"]"
   ]
  },
  {
   "cell_type": "code",
   "execution_count": 9,
   "id": "10ba38b9",
   "metadata": {},
   "outputs": [
    {
     "data": {
      "text/html": [
       "<div>\n",
       "<style scoped>\n",
       "    .dataframe tbody tr th:only-of-type {\n",
       "        vertical-align: middle;\n",
       "    }\n",
       "\n",
       "    .dataframe tbody tr th {\n",
       "        vertical-align: top;\n",
       "    }\n",
       "\n",
       "    .dataframe thead th {\n",
       "        text-align: right;\n",
       "    }\n",
       "</style>\n",
       "<table border=\"1\" class=\"dataframe\">\n",
       "  <thead>\n",
       "    <tr style=\"text-align: right;\">\n",
       "      <th></th>\n",
       "      <th>sex_of_driver</th>\n",
       "      <th>sex_of_casualty</th>\n",
       "      <th>speed_limit</th>\n",
       "      <th>age_of_vehicle</th>\n",
       "    </tr>\n",
       "  </thead>\n",
       "  <tbody>\n",
       "    <tr>\n",
       "      <th>0</th>\n",
       "      <td>1</td>\n",
       "      <td>1</td>\n",
       "      <td>30</td>\n",
       "      <td>13</td>\n",
       "    </tr>\n",
       "    <tr>\n",
       "      <th>1</th>\n",
       "      <td>1</td>\n",
       "      <td>1</td>\n",
       "      <td>30</td>\n",
       "      <td>9</td>\n",
       "    </tr>\n",
       "    <tr>\n",
       "      <th>2</th>\n",
       "      <td>3</td>\n",
       "      <td>1</td>\n",
       "      <td>30</td>\n",
       "      <td>6</td>\n",
       "    </tr>\n",
       "    <tr>\n",
       "      <th>3</th>\n",
       "      <td>3</td>\n",
       "      <td>2</td>\n",
       "      <td>30</td>\n",
       "      <td>6</td>\n",
       "    </tr>\n",
       "    <tr>\n",
       "      <th>4</th>\n",
       "      <td>1</td>\n",
       "      <td>1</td>\n",
       "      <td>30</td>\n",
       "      <td>11</td>\n",
       "    </tr>\n",
       "    <tr>\n",
       "      <th>...</th>\n",
       "      <td>...</td>\n",
       "      <td>...</td>\n",
       "      <td>...</td>\n",
       "      <td>...</td>\n",
       "    </tr>\n",
       "    <tr>\n",
       "      <th>6382</th>\n",
       "      <td>1</td>\n",
       "      <td>1</td>\n",
       "      <td>30</td>\n",
       "      <td>-1</td>\n",
       "    </tr>\n",
       "    <tr>\n",
       "      <th>6383</th>\n",
       "      <td>1</td>\n",
       "      <td>1</td>\n",
       "      <td>30</td>\n",
       "      <td>-1</td>\n",
       "    </tr>\n",
       "    <tr>\n",
       "      <th>6384</th>\n",
       "      <td>1</td>\n",
       "      <td>1</td>\n",
       "      <td>30</td>\n",
       "      <td>-1</td>\n",
       "    </tr>\n",
       "    <tr>\n",
       "      <th>6385</th>\n",
       "      <td>3</td>\n",
       "      <td>1</td>\n",
       "      <td>30</td>\n",
       "      <td>-1</td>\n",
       "    </tr>\n",
       "    <tr>\n",
       "      <th>6386</th>\n",
       "      <td>1</td>\n",
       "      <td>1</td>\n",
       "      <td>30</td>\n",
       "      <td>-1</td>\n",
       "    </tr>\n",
       "  </tbody>\n",
       "</table>\n",
       "<p>6387 rows × 4 columns</p>\n",
       "</div>"
      ],
      "text/plain": [
       "      sex_of_driver  sex_of_casualty  speed_limit  age_of_vehicle\n",
       "0                 1                1           30              13\n",
       "1                 1                1           30               9\n",
       "2                 3                1           30               6\n",
       "3                 3                2           30               6\n",
       "4                 1                1           30              11\n",
       "...             ...              ...          ...             ...\n",
       "6382              1                1           30              -1\n",
       "6383              1                1           30              -1\n",
       "6384              1                1           30              -1\n",
       "6385              3                1           30              -1\n",
       "6386              1                1           30              -1\n",
       "\n",
       "[6387 rows x 4 columns]"
      ]
     },
     "execution_count": 9,
     "metadata": {},
     "output_type": "execute_result"
    }
   ],
   "source": [
    "# Creating a dataframe from the result set of the SQL query that was executed above.\n",
    "extracted_df = pd.DataFrame(res, columns = col)\n",
    "extracted_df"
   ]
  },
  {
   "cell_type": "code",
   "execution_count": 10,
   "id": "4736dc56",
   "metadata": {
    "scrolled": true
   },
   "outputs": [
    {
     "data": {
      "text/html": [
       "<div>\n",
       "<style scoped>\n",
       "    .dataframe tbody tr th:only-of-type {\n",
       "        vertical-align: middle;\n",
       "    }\n",
       "\n",
       "    .dataframe tbody tr th {\n",
       "        vertical-align: top;\n",
       "    }\n",
       "\n",
       "    .dataframe thead th {\n",
       "        text-align: right;\n",
       "    }\n",
       "</style>\n",
       "<table border=\"1\" class=\"dataframe\">\n",
       "  <thead>\n",
       "    <tr style=\"text-align: right;\">\n",
       "      <th></th>\n",
       "      <th>sex_of_driver</th>\n",
       "      <th>sex_of_casualty</th>\n",
       "      <th>speed_limit</th>\n",
       "      <th>age_of_vehicle</th>\n",
       "    </tr>\n",
       "  </thead>\n",
       "  <tbody>\n",
       "    <tr>\n",
       "      <th>0</th>\n",
       "      <td>Male</td>\n",
       "      <td>Male</td>\n",
       "      <td>30</td>\n",
       "      <td>13</td>\n",
       "    </tr>\n",
       "    <tr>\n",
       "      <th>1</th>\n",
       "      <td>Male</td>\n",
       "      <td>Male</td>\n",
       "      <td>30</td>\n",
       "      <td>9</td>\n",
       "    </tr>\n",
       "    <tr>\n",
       "      <th>2</th>\n",
       "      <td>Not Known</td>\n",
       "      <td>Male</td>\n",
       "      <td>30</td>\n",
       "      <td>6</td>\n",
       "    </tr>\n",
       "    <tr>\n",
       "      <th>3</th>\n",
       "      <td>Not Known</td>\n",
       "      <td>Female</td>\n",
       "      <td>30</td>\n",
       "      <td>6</td>\n",
       "    </tr>\n",
       "    <tr>\n",
       "      <th>4</th>\n",
       "      <td>Male</td>\n",
       "      <td>Male</td>\n",
       "      <td>30</td>\n",
       "      <td>11</td>\n",
       "    </tr>\n",
       "    <tr>\n",
       "      <th>...</th>\n",
       "      <td>...</td>\n",
       "      <td>...</td>\n",
       "      <td>...</td>\n",
       "      <td>...</td>\n",
       "    </tr>\n",
       "    <tr>\n",
       "      <th>6382</th>\n",
       "      <td>Male</td>\n",
       "      <td>Male</td>\n",
       "      <td>30</td>\n",
       "      <td>-1</td>\n",
       "    </tr>\n",
       "    <tr>\n",
       "      <th>6383</th>\n",
       "      <td>Male</td>\n",
       "      <td>Male</td>\n",
       "      <td>30</td>\n",
       "      <td>-1</td>\n",
       "    </tr>\n",
       "    <tr>\n",
       "      <th>6384</th>\n",
       "      <td>Male</td>\n",
       "      <td>Male</td>\n",
       "      <td>30</td>\n",
       "      <td>-1</td>\n",
       "    </tr>\n",
       "    <tr>\n",
       "      <th>6385</th>\n",
       "      <td>Not Known</td>\n",
       "      <td>Male</td>\n",
       "      <td>30</td>\n",
       "      <td>-1</td>\n",
       "    </tr>\n",
       "    <tr>\n",
       "      <th>6386</th>\n",
       "      <td>Male</td>\n",
       "      <td>Male</td>\n",
       "      <td>30</td>\n",
       "      <td>-1</td>\n",
       "    </tr>\n",
       "  </tbody>\n",
       "</table>\n",
       "<p>6387 rows × 4 columns</p>\n",
       "</div>"
      ],
      "text/plain": [
       "     sex_of_driver sex_of_casualty  speed_limit  age_of_vehicle\n",
       "0             Male            Male           30              13\n",
       "1             Male            Male           30               9\n",
       "2        Not Known            Male           30               6\n",
       "3        Not Known          Female           30               6\n",
       "4             Male            Male           30              11\n",
       "...            ...             ...          ...             ...\n",
       "6382          Male            Male           30              -1\n",
       "6383          Male            Male           30              -1\n",
       "6384          Male            Male           30              -1\n",
       "6385     Not Known            Male           30              -1\n",
       "6386          Male            Male           30              -1\n",
       "\n",
       "[6387 rows x 4 columns]"
      ]
     },
     "execution_count": 10,
     "metadata": {},
     "output_type": "execute_result"
    }
   ],
   "source": [
    "# Creating a copy of the extracted_df dataframe.\n",
    "extracted_df2 = pd.DataFrame(extracted_df)\n",
    "# Replacing the numerical codes indicated in the columns of sex_of_driver and sex_of_casualty to their corresponding denotations.\n",
    "extracted_df2[[\"sex_of_driver\",\"sex_of_casualty\"]] = extracted_df2[[\"sex_of_driver\",\"sex_of_casualty\"]].replace({1 : \"Male\", 2 : \"Female\", 3: \"Not Known\"})\n",
    "extracted_df2"
   ]
  },
  {
   "cell_type": "code",
   "execution_count": null,
   "id": "4ee968c6",
   "metadata": {},
   "outputs": [],
   "source": []
  }
 ],
 "metadata": {
  "kernelspec": {
   "display_name": "Python 3 (ipykernel)",
   "language": "python",
   "name": "python3"
  },
  "language_info": {
   "codemirror_mode": {
    "name": "ipython",
    "version": 3
   },
   "file_extension": ".py",
   "mimetype": "text/x-python",
   "name": "python",
   "nbconvert_exporter": "python",
   "pygments_lexer": "ipython3",
   "version": "3.9.13"
  }
 },
 "nbformat": 4,
 "nbformat_minor": 5
}
